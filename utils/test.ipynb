{
 "cells": [
  {
   "cell_type": "code",
   "execution_count": null,
   "metadata": {},
   "outputs": [],
   "source": [
    "# Flow: preprocess -> visualize\n",
    "# preprocess: read annotation -> check valid\n",
    "# check valid: check each bbox is valid or not\n",
    "# condition: iou > 0.15 -> invalid\n",
    "\n"
   ]
  },
  {
   "cell_type": "code",
   "execution_count": 9,
   "metadata": {},
   "outputs": [],
   "source": [
    "from icecream import ic"
   ]
  },
  {
   "cell_type": "code",
   "execution_count": 19,
   "metadata": {},
   "outputs": [],
   "source": [
    "def check_valid_bounding_box(bboxes, overlap_threshold=0.2):\n",
    "    '''\n",
    "    Check if bounding boxes of class 0 and class 1 overlap more than a threshold.\n",
    "    Args:\n",
    "        bboxes (list): List of bounding boxes with format [class_idx, x_center, y_center, width, height].\n",
    "        overlap_threshold (float): Threshold for overlap ratio.\n",
    "    Returns:\n",
    "        bool: True if no invalid overlap, False otherwise.\n",
    "    '''\n",
    "    def compute_iou(box1, box2):\n",
    "        x1_min = box1[1] - box1[3] / 2\n",
    "        x1_max = box1[1] + box1[3] / 2\n",
    "        y1_min = box1[2] - box1[4] / 2\n",
    "        y1_max = box1[2] + box1[4] / 2\n",
    "\n",
    "        x2_min = box2[1] - box2[3] / 2\n",
    "        x2_max = box2[1] + box2[3] / 2\n",
    "        y2_min = box2[2] - box2[4] / 2\n",
    "        y2_max = box2[2] + box2[4] / 2\n",
    "\n",
    "        inter_x_min = max(x1_min, x2_min)\n",
    "        inter_x_max = min(x1_max, x2_max)\n",
    "        inter_y_min = max(y1_min, y2_min)\n",
    "        inter_y_max = min(y1_max, y2_max)\n",
    "\n",
    "        inter_area = max(0, inter_x_max - inter_x_min) * max(0, inter_y_max - inter_y_min)\n",
    "        box1_area = (x1_max - x1_min) * (y1_max - y1_min)\n",
    "        box2_area = (x2_max - x2_min) * (y2_max - y2_min)\n",
    "\n",
    "        iou = inter_area / float(box1_area + box2_area - inter_area)\n",
    "        return iou\n",
    "\n",
    "    class_0_bboxes = [bbox for bbox in bboxes if bbox[0] == 0]\n",
    "    class_1_bboxes = [bbox for bbox in bboxes if bbox[0] == 1]\n",
    " \n",
    "    for box0 in class_0_bboxes:\n",
    "        for box1 in class_1_bboxes:\n",
    "            ic(compute_iou(box0, box1))\n",
    "            if compute_iou(box0, box1) > overlap_threshold:\n",
    "                return False\n",
    "            \n",
    "    return True"
   ]
  },
  {
   "cell_type": "code",
   "execution_count": 20,
   "metadata": {},
   "outputs": [
    {
     "name": "stderr",
     "output_type": "stream",
     "text": [
      "ic| compute_iou(box0, box1): 0.00559179869524685\n",
      "ic| compute_iou(box0, box1): 0.0\n",
      "ic| compute_iou(box0, box1): 0.0\n",
      "ic| compute_iou(box0, box1): 0.0\n",
      "ic| compute_iou(box0, box1): 0.0\n",
      "ic| compute_iou(box0, box1): 0.0\n",
      "ic| compute_iou(box0, box1): 0.0\n",
      "ic| compute_iou(box0, box1): 0.0\n",
      "ic| compute_iou(box0, box1): 0.0\n",
      "ic| compute_iou(box0, box1): 0.0\n",
      "ic| compute_iou(box0, box1): 0.0\n",
      "ic| compute_iou(box0, box1): 0.0\n",
      "ic| compute_iou(box0, box1): 0.24095238095238028\n"
     ]
    },
    {
     "data": {
      "text/plain": [
       "[]"
      ]
     },
     "execution_count": 20,
     "metadata": {},
     "output_type": "execute_result"
    }
   ],
   "source": [
    "def filter_failed_image(annotation_path):\n",
    "    valid_annotation_paths = []\n",
    "    with open(annotation_path, 'r') as f:\n",
    "        lines = f.readlines()\n",
    "        annotations = []\n",
    "        for line in lines:\n",
    "            line = line.split(' ')\n",
    "            class_idx = int(line[0])\n",
    "            x_center = float(line[1])\n",
    "            y_center = float(line[2])\n",
    "            width = float(line[3])\n",
    "            height = float(line[4].replace('\\n', ''))\n",
    "            \n",
    "            annotation = [class_idx, x_center, y_center, width, height]\n",
    "            annotations.append(annotation)\n",
    "        if check_valid_bounding_box(annotations):\n",
    "            valid_annotation_paths.append(annotation_path)\n",
    "            \n",
    "    return valid_annotation_paths\n",
    "            \n",
    "annotation_path = '/workspace/competitions/Sly/detectron2_train_infer/data/raw/train/labels/00208.txt'\n",
    "filter_failed_image(annotation_path)"
   ]
  },
  {
   "cell_type": "code",
   "execution_count": null,
   "metadata": {},
   "outputs": [],
   "source": []
  }
 ],
 "metadata": {
  "kernelspec": {
   "display_name": "detectron2",
   "language": "python",
   "name": "python3"
  },
  "language_info": {
   "codemirror_mode": {
    "name": "ipython",
    "version": 3
   },
   "file_extension": ".py",
   "mimetype": "text/x-python",
   "name": "python",
   "nbconvert_exporter": "python",
   "pygments_lexer": "ipython3",
   "version": "3.9.21"
  }
 },
 "nbformat": 4,
 "nbformat_minor": 2
}
